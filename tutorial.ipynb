{
 "cells": [
  {
   "cell_type": "code",
   "execution_count": null,
   "metadata": {},
   "outputs": [],
   "source": [
    "import numpy as np\n",
    "import pandas as pd\n",
    "\n",
    "TOP_N = 100\n",
    "\n",
    "# Convert .csv dataset to DataFrame\n",
    "data = pd.read_csv(\"Twitch_game_data.csv\", sep=',')\n",
    "\n",
    "# Clean data\n",
    "    # Remove \" hours\" from Hours_Streamed column\n",
    "    # Convert Hours_Streamed column to int\n",
    "data[\"Hours_Streamed\"] = data[\"Hours_Streamed\"].map(lambda x : x.rstrip(\" hours\"))\n",
    "data[\"Hours_Streamed\"] = pd.to_numeric(data[\"Hours_Streamed\"])\n",
    "\n",
    "    # Remove ranks past TOP_N\n",
    "data = data.loc[data['Rank'] <= TOP_N]\n",
    "\n",
    "print(\"Number of Unique Games: \",data[\"Game\"].unique().size)\n",
    "data.head(10)"
   ]
  }
 ],
 "metadata": {
  "language_info": {
   "name": "python"
  },
  "orig_nbformat": 4
 },
 "nbformat": 4,
 "nbformat_minor": 2
}
